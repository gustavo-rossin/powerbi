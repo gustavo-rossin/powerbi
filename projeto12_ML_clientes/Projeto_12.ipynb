{
 "cells": [
  {
   "cell_type": "code",
   "execution_count": 1,
   "id": "2d8d7db1",
   "metadata": {
    "scrolled": true
   },
   "outputs": [
    {
     "name": "stdout",
     "output_type": "stream",
     "text": [
      "Versão do Python utilizada:  3.9.13\n"
     ]
    }
   ],
   "source": [
    "# Versão da Linguagem Python\n",
    "from platform import python_version\n",
    "\n",
    "print('Versão do Python utilizada: ', python_version())"
   ]
  },
  {
   "cell_type": "markdown",
   "id": "678f83aa",
   "metadata": {},
   "source": [
    "# Análise Exploratória"
   ]
  },
  {
   "cell_type": "code",
   "execution_count": 2,
   "id": "b61d728b",
   "metadata": {},
   "outputs": [
    {
     "name": "stdout",
     "output_type": "stream",
     "text": [
      "      id  idade  renda_anual  pontuacao_gastos\n",
      "0      1     56        94740                90\n",
      "1      2     69       136352                50\n",
      "2      3     46        86617                62\n",
      "3      4     32       114841                97\n",
      "4      5     60        36896                51\n",
      "..   ...    ...          ...               ...\n",
      "495  496     43       127825                96\n",
      "496  497     70        75393                86\n",
      "497  498     40        93553                54\n",
      "498  499     26        26941                91\n",
      "499  500     29        45934                31\n",
      "\n",
      "[500 rows x 4 columns]\n"
     ]
    },
    {
     "data": {
      "text/html": [
       "<div>\n",
       "<style scoped>\n",
       "    .dataframe tbody tr th:only-of-type {\n",
       "        vertical-align: middle;\n",
       "    }\n",
       "\n",
       "    .dataframe tbody tr th {\n",
       "        vertical-align: top;\n",
       "    }\n",
       "\n",
       "    .dataframe thead th {\n",
       "        text-align: right;\n",
       "    }\n",
       "</style>\n",
       "<table border=\"1\" class=\"dataframe\">\n",
       "  <thead>\n",
       "    <tr style=\"text-align: right;\">\n",
       "      <th></th>\n",
       "      <th>id</th>\n",
       "      <th>idade</th>\n",
       "      <th>renda_anual</th>\n",
       "      <th>pontuacao_gastos</th>\n",
       "    </tr>\n",
       "  </thead>\n",
       "  <tbody>\n",
       "    <tr>\n",
       "      <th>count</th>\n",
       "      <td>500.000000</td>\n",
       "      <td>500.000000</td>\n",
       "      <td>500.000000</td>\n",
       "      <td>500.000000</td>\n",
       "    </tr>\n",
       "    <tr>\n",
       "      <th>mean</th>\n",
       "      <td>250.500000</td>\n",
       "      <td>44.732000</td>\n",
       "      <td>81557.166000</td>\n",
       "      <td>48.512000</td>\n",
       "    </tr>\n",
       "    <tr>\n",
       "      <th>std</th>\n",
       "      <td>144.481833</td>\n",
       "      <td>15.239707</td>\n",
       "      <td>36764.379945</td>\n",
       "      <td>29.556946</td>\n",
       "    </tr>\n",
       "    <tr>\n",
       "      <th>min</th>\n",
       "      <td>1.000000</td>\n",
       "      <td>18.000000</td>\n",
       "      <td>20384.000000</td>\n",
       "      <td>0.000000</td>\n",
       "    </tr>\n",
       "    <tr>\n",
       "      <th>25%</th>\n",
       "      <td>125.750000</td>\n",
       "      <td>32.000000</td>\n",
       "      <td>49172.750000</td>\n",
       "      <td>24.000000</td>\n",
       "    </tr>\n",
       "    <tr>\n",
       "      <th>50%</th>\n",
       "      <td>250.500000</td>\n",
       "      <td>45.000000</td>\n",
       "      <td>79219.000000</td>\n",
       "      <td>48.500000</td>\n",
       "    </tr>\n",
       "    <tr>\n",
       "      <th>75%</th>\n",
       "      <td>375.250000</td>\n",
       "      <td>57.000000</td>\n",
       "      <td>113017.250000</td>\n",
       "      <td>73.250000</td>\n",
       "    </tr>\n",
       "    <tr>\n",
       "      <th>max</th>\n",
       "      <td>500.000000</td>\n",
       "      <td>70.000000</td>\n",
       "      <td>149695.000000</td>\n",
       "      <td>100.000000</td>\n",
       "    </tr>\n",
       "  </tbody>\n",
       "</table>\n",
       "</div>"
      ],
      "text/plain": [
       "               id       idade    renda_anual  pontuacao_gastos\n",
       "count  500.000000  500.000000     500.000000        500.000000\n",
       "mean   250.500000   44.732000   81557.166000         48.512000\n",
       "std    144.481833   15.239707   36764.379945         29.556946\n",
       "min      1.000000   18.000000   20384.000000          0.000000\n",
       "25%    125.750000   32.000000   49172.750000         24.000000\n",
       "50%    250.500000   45.000000   79219.000000         48.500000\n",
       "75%    375.250000   57.000000  113017.250000         73.250000\n",
       "max    500.000000   70.000000  149695.000000        100.000000"
      ]
     },
     "execution_count": 2,
     "metadata": {},
     "output_type": "execute_result"
    }
   ],
   "source": [
    "import pandas as pd\n",
    "from sklearn.cluster import KMeans\n",
    "from sklearn.preprocessing import StandardScaler\n",
    "\n",
    "df_clientes = pd.read_csv('dados/dados_clientes.csv')\n",
    "\n",
    "print(df_clientes)\n",
    "df_clientes.describe()"
   ]
  },
  {
   "cell_type": "code",
   "execution_count": 3,
   "id": "be77a60e",
   "metadata": {},
   "outputs": [],
   "source": [
    "df_padronizado = df_clientes[['idade', 'renda_anual', 'pontuacao_gastos']]"
   ]
  },
  {
   "cell_type": "markdown",
   "id": "baf86773",
   "metadata": {},
   "source": [
    "### Pré-Processamento de Dados"
   ]
  },
  {
   "cell_type": "code",
   "execution_count": 4,
   "id": "fb64de89",
   "metadata": {},
   "outputs": [],
   "source": [
    "#padronizar dados\n",
    "\n",
    "padronizador = StandardScaler()"
   ]
  },
  {
   "cell_type": "code",
   "execution_count": 5,
   "id": "7b147199",
   "metadata": {},
   "outputs": [
    {
     "name": "stdout",
     "output_type": "stream",
     "text": [
      "[[ 0.74012478  0.35893538  1.40506904]\n",
      " [ 1.59401387  1.49192537  0.05039391]\n",
      " [ 0.08328703  0.13776654  0.45679645]\n",
      " ...\n",
      " [-0.31081563  0.32661636  0.18586143]\n",
      " [-1.23038848 -1.48706069  1.43893592]\n",
      " [-1.03333716 -0.96992912 -0.59307677]]\n"
     ]
    }
   ],
   "source": [
    "#Aplica o padronizador nas colunas a serem estudadas\n",
    "\n",
    "dados_padronizados = padronizador.fit_transform(df_padronizado)\n",
    "\n",
    "print(dados_padronizados)"
   ]
  },
  {
   "cell_type": "code",
   "execution_count": 6,
   "id": "d5049568",
   "metadata": {},
   "outputs": [
    {
     "data": {
      "text/html": [
       "<div>\n",
       "<style scoped>\n",
       "    .dataframe tbody tr th:only-of-type {\n",
       "        vertical-align: middle;\n",
       "    }\n",
       "\n",
       "    .dataframe tbody tr th {\n",
       "        vertical-align: top;\n",
       "    }\n",
       "\n",
       "    .dataframe thead th {\n",
       "        text-align: right;\n",
       "    }\n",
       "</style>\n",
       "<table border=\"1\" class=\"dataframe\">\n",
       "  <thead>\n",
       "    <tr style=\"text-align: right;\">\n",
       "      <th></th>\n",
       "      <th>id</th>\n",
       "      <th>idade</th>\n",
       "      <th>renda_anual</th>\n",
       "      <th>pontuacao_gastos</th>\n",
       "      <th>cluster</th>\n",
       "    </tr>\n",
       "  </thead>\n",
       "  <tbody>\n",
       "    <tr>\n",
       "      <th>275</th>\n",
       "      <td>276</td>\n",
       "      <td>49</td>\n",
       "      <td>114246</td>\n",
       "      <td>39</td>\n",
       "      <td>2</td>\n",
       "    </tr>\n",
       "    <tr>\n",
       "      <th>323</th>\n",
       "      <td>324</td>\n",
       "      <td>55</td>\n",
       "      <td>33843</td>\n",
       "      <td>73</td>\n",
       "      <td>0</td>\n",
       "    </tr>\n",
       "    <tr>\n",
       "      <th>467</th>\n",
       "      <td>468</td>\n",
       "      <td>50</td>\n",
       "      <td>52049</td>\n",
       "      <td>48</td>\n",
       "      <td>0</td>\n",
       "    </tr>\n",
       "    <tr>\n",
       "      <th>226</th>\n",
       "      <td>227</td>\n",
       "      <td>19</td>\n",
       "      <td>123150</td>\n",
       "      <td>100</td>\n",
       "      <td>1</td>\n",
       "    </tr>\n",
       "    <tr>\n",
       "      <th>102</th>\n",
       "      <td>103</td>\n",
       "      <td>46</td>\n",
       "      <td>102986</td>\n",
       "      <td>6</td>\n",
       "      <td>2</td>\n",
       "    </tr>\n",
       "    <tr>\n",
       "      <th>362</th>\n",
       "      <td>363</td>\n",
       "      <td>68</td>\n",
       "      <td>123268</td>\n",
       "      <td>89</td>\n",
       "      <td>2</td>\n",
       "    </tr>\n",
       "    <tr>\n",
       "      <th>32</th>\n",
       "      <td>33</td>\n",
       "      <td>66</td>\n",
       "      <td>113468</td>\n",
       "      <td>79</td>\n",
       "      <td>2</td>\n",
       "    </tr>\n",
       "    <tr>\n",
       "      <th>189</th>\n",
       "      <td>190</td>\n",
       "      <td>61</td>\n",
       "      <td>102637</td>\n",
       "      <td>44</td>\n",
       "      <td>2</td>\n",
       "    </tr>\n",
       "    <tr>\n",
       "      <th>281</th>\n",
       "      <td>282</td>\n",
       "      <td>56</td>\n",
       "      <td>29435</td>\n",
       "      <td>37</td>\n",
       "      <td>0</td>\n",
       "    </tr>\n",
       "    <tr>\n",
       "      <th>243</th>\n",
       "      <td>244</td>\n",
       "      <td>70</td>\n",
       "      <td>39065</td>\n",
       "      <td>74</td>\n",
       "      <td>0</td>\n",
       "    </tr>\n",
       "    <tr>\n",
       "      <th>268</th>\n",
       "      <td>269</td>\n",
       "      <td>37</td>\n",
       "      <td>137611</td>\n",
       "      <td>25</td>\n",
       "      <td>2</td>\n",
       "    </tr>\n",
       "    <tr>\n",
       "      <th>471</th>\n",
       "      <td>472</td>\n",
       "      <td>61</td>\n",
       "      <td>93963</td>\n",
       "      <td>15</td>\n",
       "      <td>2</td>\n",
       "    </tr>\n",
       "    <tr>\n",
       "      <th>122</th>\n",
       "      <td>123</td>\n",
       "      <td>59</td>\n",
       "      <td>96797</td>\n",
       "      <td>12</td>\n",
       "      <td>2</td>\n",
       "    </tr>\n",
       "    <tr>\n",
       "      <th>423</th>\n",
       "      <td>424</td>\n",
       "      <td>57</td>\n",
       "      <td>67926</td>\n",
       "      <td>90</td>\n",
       "      <td>0</td>\n",
       "    </tr>\n",
       "    <tr>\n",
       "      <th>79</th>\n",
       "      <td>80</td>\n",
       "      <td>61</td>\n",
       "      <td>114704</td>\n",
       "      <td>60</td>\n",
       "      <td>2</td>\n",
       "    </tr>\n",
       "  </tbody>\n",
       "</table>\n",
       "</div>"
      ],
      "text/plain": [
       "      id  idade  renda_anual  pontuacao_gastos  cluster\n",
       "275  276     49       114246                39        2\n",
       "323  324     55        33843                73        0\n",
       "467  468     50        52049                48        0\n",
       "226  227     19       123150               100        1\n",
       "102  103     46       102986                 6        2\n",
       "362  363     68       123268                89        2\n",
       "32    33     66       113468                79        2\n",
       "189  190     61       102637                44        2\n",
       "281  282     56        29435                37        0\n",
       "243  244     70        39065                74        0\n",
       "268  269     37       137611                25        2\n",
       "471  472     61        93963                15        2\n",
       "122  123     59        96797                12        2\n",
       "423  424     57        67926                90        0\n",
       "79    80     61       114704                60        2"
      ]
     },
     "execution_count": 6,
     "metadata": {},
     "output_type": "execute_result"
    }
   ],
   "source": [
    "#definir o número de clusters' na quantidade de grupos:\n",
    "k = 3\n",
    "\n",
    "# criar o modelo K-means\n",
    "kmeans = KMeans(n_clusters=k)\n",
    "\n",
    "#treinando o modelo com os dados padronizados:\n",
    "kmeans.fit(dados_padronizados)\n",
    "\n",
    "#atribuir o rótulo do cluster criado ao df\n",
    "df_clientes['cluster'] = kmeans.labels_\n",
    "\n",
    "#print atualizado\n",
    "df_clientes.sample(15)"
   ]
  },
  {
   "cell_type": "code",
   "execution_count": 7,
   "id": "bcbfe99b",
   "metadata": {},
   "outputs": [],
   "source": [
    "#Salvando o arquivo\n",
    "df_clientes.to_csv('dados/clientes_clusterizados.csv', index=False)"
   ]
  },
  {
   "cell_type": "markdown",
   "id": "e987e60a",
   "metadata": {},
   "source": [
    "# Relatório do PowerBI no Jupyter"
   ]
  },
  {
   "cell_type": "code",
   "execution_count": 8,
   "id": "caad7dab",
   "metadata": {},
   "outputs": [],
   "source": [
    "# instalando o pacote: powerbiclient\n",
    "\n",
    "!pip install -q powerbiclient"
   ]
  },
  {
   "cell_type": "code",
   "execution_count": 9,
   "id": "af5d0246",
   "metadata": {},
   "outputs": [],
   "source": [
    "#funções usadas para autenticar e gerar relatórios\n",
    "\n",
    "from powerbiclient import QuickVisualize, get_dataset_config, Report\n",
    "from powerbiclient.authentication import DeviceCodeLoginAuthentication"
   ]
  },
  {
   "cell_type": "code",
   "execution_count": 10,
   "id": "1af47e12",
   "metadata": {},
   "outputs": [
    {
     "name": "stdout",
     "output_type": "stream",
     "text": [
      "Performing device flow authentication. Please follow the instructions below.\n",
      "To sign in, use a web browser to open the page https://microsoft.com/devicelogin and enter the code BMZJBXY8Q to authenticate.\n",
      "\n",
      "Device flow authentication successfully completed.\n",
      "You are now logged in .\n",
      "\n",
      "The result should be passed only to trusted code in your notebook.\n"
     ]
    }
   ],
   "source": [
    "#define autenticação no PBI Service\n",
    "\n",
    "device_auth = DeviceCodeLoginAuthentication()"
   ]
  },
  {
   "cell_type": "code",
   "execution_count": 11,
   "id": "8c9cff8e",
   "metadata": {},
   "outputs": [],
   "source": [
    "#Criando relatório no PBI\n",
    "\n",
    "PBI_visualize = QuickVisualize(get_dataset_config(df_clientes), auth=device_auth)"
   ]
  },
  {
   "cell_type": "code",
   "execution_count": 13,
   "id": "28491d62",
   "metadata": {},
   "outputs": [
    {
     "data": {
      "application/vnd.jupyter.widget-view+json": {
       "model_id": "9fce7f4c29474684a064761fe6bace16",
       "version_major": 2,
       "version_minor": 0
      },
      "text/plain": [
       "QuickVisualize()"
      ]
     },
     "metadata": {},
     "output_type": "display_data"
    }
   ],
   "source": [
    "#Renderizando relatório de PBI:\n",
    "PBI_visualize"
   ]
  }
 ],
 "metadata": {
  "kernelspec": {
   "display_name": "Python 3 (ipykernel)",
   "language": "python",
   "name": "python3"
  },
  "language_info": {
   "codemirror_mode": {
    "name": "ipython",
    "version": 3
   },
   "file_extension": ".py",
   "mimetype": "text/x-python",
   "name": "python",
   "nbconvert_exporter": "python",
   "pygments_lexer": "ipython3",
   "version": "3.9.13"
  }
 },
 "nbformat": 4,
 "nbformat_minor": 5
}
